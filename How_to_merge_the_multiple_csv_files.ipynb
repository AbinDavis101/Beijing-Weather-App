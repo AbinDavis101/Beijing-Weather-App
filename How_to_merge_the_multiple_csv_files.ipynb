{
  "nbformat": 4,
  "nbformat_minor": 0,
  "metadata": {
    "colab": {
      "provenance": []
    },
    "kernelspec": {
      "name": "python3",
      "display_name": "Python 3"
    },
    "language_info": {
      "name": "python"
    }
  },
  "cells": [
    {
      "cell_type": "markdown",
      "source": [
        "### **Mounting the google drive to the colab environment:**"
      ],
      "metadata": {
        "id": "swmzfS3bbvzE"
      }
    },
    {
      "cell_type": "code",
      "source": [
        "from google.colab import drive\n",
        "drive.mount('/content/drive')"
      ],
      "metadata": {
        "colab": {
          "base_uri": "https://localhost:8080/"
        },
        "id": "9ekzRnwM31ZA",
        "outputId": "a6505792-502f-4a3c-a3d6-c0ff7702e582"
      },
      "execution_count": 1,
      "outputs": [
        {
          "output_type": "stream",
          "name": "stdout",
          "text": [
            "Mounted at /content/drive\n"
          ]
        }
      ]
    },
    {
      "cell_type": "code",
      "source": [
        "%cd '/content/drive/MyDrive/cmp7005/Assesment'"
      ],
      "metadata": {
        "colab": {
          "base_uri": "https://localhost:8080/"
        },
        "id": "4r91f2MP33ag",
        "outputId": "10d9af0c-6d56-4790-f021-8bbedf093d56"
      },
      "execution_count": 2,
      "outputs": [
        {
          "output_type": "stream",
          "name": "stdout",
          "text": [
            "/content/drive/MyDrive/cmp7005/Assesment\n"
          ]
        }
      ]
    },
    {
      "cell_type": "code",
      "source": [
        "%ls"
      ],
      "metadata": {
        "colab": {
          "base_uri": "https://localhost:8080/"
        },
        "id": "d6-j0IMV5Zqh",
        "outputId": "1403df55-b14b-4b78-8cae-f067046322ca"
      },
      "execution_count": 4,
      "outputs": [
        {
          "output_type": "stream",
          "name": "stdout",
          "text": [
            "'Copy of PRSA_Data_Gucheng_20130301-20170228.csv'\n",
            "'Copy of PRSA_Data_Shunyi_20130301-20170228.csv'\n",
            "'Copy of PRSA_Data_Tiantan_20130301-20170228.csv'\n",
            "'Copy of PRSA_Data_Wanshouxigong_20130301-20170228.csv'\n"
          ]
        }
      ]
    },
    {
      "cell_type": "code",
      "execution_count": 5,
      "metadata": {
        "colab": {
          "base_uri": "https://localhost:8080/"
        },
        "id": "np6Ny_IuFCbq",
        "outputId": "c1921ea6-46c3-4e44-c869-901a59117226"
      },
      "outputs": [
        {
          "output_type": "stream",
          "name": "stdout",
          "text": [
            "All CSV files have been merged into 'combined_output.csv'.\n"
          ]
        }
      ],
      "source": [
        "import pandas as pd\n",
        "import glob\n",
        "\n",
        "# Get all CSV files in the folder\n",
        "csv_files = glob.glob(\"/content/drive/MyDrive/cmp7005/Assesment/*.csv\")\n",
        "\n",
        "# Read and combine all CSV files\n",
        "combined_df = pd.concat([pd.read_csv(file) for file in csv_files], ignore_index=True)\n",
        "\n",
        "# Save to a new CSV file\n",
        "combined_df.to_csv(\"combined_df.csv\", index=False)\n",
        "\n",
        "print(\"All CSV files have been merged into 'combined_output.csv'.\")\n"
      ]
    }
  ]
}